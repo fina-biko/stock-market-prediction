{
 "cells": [
  {
   "cell_type": "code",
   "execution_count": 1,
   "metadata": {},
   "outputs": [
    {
     "data": {
      "text/plain": [
       "'\\nSince no stock analysis data has been privided, I will use the NER in nlp to identify the industries dominant in the text analysis\\n\\n'"
      ]
     },
     "execution_count": 1,
     "metadata": {},
     "output_type": "execute_result"
    }
   ],
   "source": [
    "'''\n",
    "Since no stock analysis data has been privided, I will use the NER in nlp to identify the industries dominant in the text analysis\n",
    "\n",
    "'''\n",
    "\n"
   ]
  },
  {
   "cell_type": "code",
   "execution_count": 2,
   "metadata": {},
   "outputs": [
    {
     "data": {
      "text/plain": [
       "'%pip install pandas \\n%pip install nltk \\n%pip install csv\\n%pip install csv'"
      ]
     },
     "execution_count": 2,
     "metadata": {},
     "output_type": "execute_result"
    }
   ],
   "source": [
    "'''%pip install pandas \n",
    "%pip install nltk \n",
    "%pip install csv\n",
    "%pip install csv'''\n"
   ]
  },
  {
   "cell_type": "code",
   "execution_count": null,
   "metadata": {},
   "outputs": [],
   "source": []
  },
  {
   "cell_type": "code",
   "execution_count": 3,
   "metadata": {},
   "outputs": [],
   "source": [
    "import pandas as pd\n",
    "import csv\n",
    "import nltk \n",
    "from nltk.tokenize import word_tokenize\n",
    "from nltk.tag import pos_tag\n",
    "from nltk.chunk import ne_chunk\n"
   ]
  },
  {
   "cell_type": "code",
   "execution_count": null,
   "metadata": {},
   "outputs": [],
   "source": [
    "'''why we use sentiment analysis\n",
    "Sentiment analysis techniques can be employed to evaluate the mood of investors and assess its potential impact on stock prices. \n",
    "By analysing news articles, social media posts, and other textual data, data scientists can identify prevailing market sentiment and make\n",
    " more informed predictions about future price movements\n",
    "'''"
   ]
  },
  {
   "cell_type": "code",
   "execution_count": 1,
   "metadata": {},
   "outputs": [
    {
     "data": {
      "text/plain": [
       "'\\nimport the headlines\\ncombine the headlines  for a particular day into paragraphs\\nremove the punctuations\\nget the polarity  and subjectivity of the sentences\\nget the sentiment  polarity , how positive and negative and neutral a sentiment is\\nconvert the  sentences into vectors\\nselect out the important features to merge with the stock predictions\\n'"
      ]
     },
     "execution_count": 1,
     "metadata": {},
     "output_type": "execute_result"
    }
   ],
   "source": [
    "'''\n",
    "import the headlines\n",
    "combine the headlines  for a particular day into paragraphs\n",
    "remove the punctuations\n",
    "get the polarity  and subjectivity of the sentences\n",
    "get the sentiment  polarity , how positive and negative and neutral a sentiment is\n",
    "convert the  sentences into vectors\n",
    "select out the important features to merge with the stock predictions\n",
    "'''"
   ]
  },
  {
   "cell_type": "code",
   "execution_count": null,
   "metadata": {},
   "outputs": [],
   "source": [
    "'''\n",
    "Open Price:The open price is the price at which a stock starts trading at the beginning of a trading session \n",
    "\n",
    "High Price: indicates the maximum price reached by the stock during the day and reflects the level of buying pressure \n",
    "and bullish sentiment.\n",
    "\n",
    "Low Price:It indicates the minimum price reached by the stock during the day and reflects the level of selling pressure\n",
    " and bearish sentiment.\n",
    "\n",
    "Close Price:The close price is final price at which a stock trades at the end of a trading session\n",
    "\n",
    "Volume:The volume is the number of shares traded during a trading session\n",
    "\n",
    "\n",
    "1.explain what each of the features represent in the stock dataset\n",
    "2.basic analysis of the dataset-----null values,statistics of th values,\n",
    "3.get the distribution of the stock prices  and volume over time (UNIVARIATE ANALYIS)\n",
    "4.measure the extent of price movement around the average (STANDARD DEVIATION) if the standard deviation is high then the price varies greatly between\n",
    "and is also highly volatile . greater volatility highly suggests that there is greater uncertainty ND RISK associated with the price while lower valotility \n",
    "suggests that the price is almost always stable(volatility metrics-std,ATR,)\n",
    "Understanding volatility is crucial for risk management, portfolio allocation, and the development \n",
    "of trading strategies in the stock market.Volatility is a measure of how much the price of an asset tends to fluctuate around its \n",
    "average price\n",
    "5.(CORELATION  ANALYSIS) of the variables ,strong correlation indicates that the variables are moving in the same direction, as one \n",
    "changes , so does the other\n",
    "6.\n",
    "\n",
    "\n",
    "\n",
    "\n",
    "\n",
    "\n",
    "'''\n"
   ]
  },
  {
   "cell_type": "code",
   "execution_count": null,
   "metadata": {},
   "outputs": [],
   "source": []
  }
 ],
 "metadata": {
  "kernelspec": {
   "display_name": "amtirednow",
   "language": "python",
   "name": "python3"
  },
  "language_info": {
   "codemirror_mode": {
    "name": "ipython",
    "version": 3
   },
   "file_extension": ".py",
   "mimetype": "text/x-python",
   "name": "python",
   "nbconvert_exporter": "python",
   "pygments_lexer": "ipython3",
   "version": "3.8.0"
  }
 },
 "nbformat": 4,
 "nbformat_minor": 2
}
